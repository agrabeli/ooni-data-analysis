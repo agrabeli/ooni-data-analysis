{
 "cells": [
  {
   "cell_type": "code",
   "execution_count": 1,
   "id": "563893a2-d48a-4230-b987-95d9d87e143b",
   "metadata": {},
   "outputs": [
    {
     "name": "stdout",
     "output_type": "stream",
     "text": [
      "📅 Fetching data for 2017...\n",
      "📅 Fetching data for 2018...\n",
      "📅 Fetching data for 2019...\n",
      "📅 Fetching data for 2020...\n",
      "📅 Fetching data for 2021...\n",
      "📅 Fetching data for 2022...\n",
      "📅 Fetching data for 2023...\n",
      "📅 Fetching data for 2024...\n"
     ]
    },
    {
     "data": {
      "text/html": [
       "<div>\n",
       "<style scoped>\n",
       "    .dataframe tbody tr th:only-of-type {\n",
       "        vertical-align: middle;\n",
       "    }\n",
       "\n",
       "    .dataframe tbody tr th {\n",
       "        vertical-align: top;\n",
       "    }\n",
       "\n",
       "    .dataframe thead th {\n",
       "        text-align: right;\n",
       "    }\n",
       "</style>\n",
       "<table border=\"1\" class=\"dataframe\">\n",
       "  <thead>\n",
       "    <tr style=\"text-align: right;\">\n",
       "      <th></th>\n",
       "      <th>year</th>\n",
       "      <th>country</th>\n",
       "      <th>confirmed_count</th>\n",
       "    </tr>\n",
       "  </thead>\n",
       "  <tbody>\n",
       "    <tr>\n",
       "      <th>0</th>\n",
       "      <td>2017</td>\n",
       "      <td>CN</td>\n",
       "      <td>16</td>\n",
       "    </tr>\n",
       "    <tr>\n",
       "      <th>1</th>\n",
       "      <td>2017</td>\n",
       "      <td>IR</td>\n",
       "      <td>634</td>\n",
       "    </tr>\n",
       "    <tr>\n",
       "      <th>2</th>\n",
       "      <td>2017</td>\n",
       "      <td>RU</td>\n",
       "      <td>25</td>\n",
       "    </tr>\n",
       "    <tr>\n",
       "      <th>3</th>\n",
       "      <td>2018</td>\n",
       "      <td>IR</td>\n",
       "      <td>476</td>\n",
       "    </tr>\n",
       "    <tr>\n",
       "      <th>4</th>\n",
       "      <td>2018</td>\n",
       "      <td>RU</td>\n",
       "      <td>7221</td>\n",
       "    </tr>\n",
       "  </tbody>\n",
       "</table>\n",
       "</div>"
      ],
      "text/plain": [
       "   year country  confirmed_count\n",
       "0  2017      CN               16\n",
       "1  2017      IR              634\n",
       "2  2017      RU               25\n",
       "3  2018      IR              476\n",
       "4  2018      RU             7221"
      ]
     },
     "execution_count": 1,
     "metadata": {},
     "output_type": "execute_result"
    }
   ],
   "source": [
    "import requests\n",
    "import pandas as pd\n",
    "\n",
    "years = [2017, 2018, 2019, 2020, 2021, 2022, 2023, 2024]\n",
    "results = []\n",
    "\n",
    "for year in years:\n",
    "    print(f\"📅 Fetching data for {year}...\")\n",
    "    url = \"https://api.ooni.io/api/v1/aggregation\"\n",
    "    params = {\n",
    "        \"axis_x\": \"probe_cc\",\n",
    "        \"axis_y\": \"category_code\",\n",
    "        \"test_name\": \"web_connectivity\",\n",
    "        \"since\": f\"{year}-01-01\",\n",
    "        \"until\": f\"{year}-12-31\",\n",
    "        \"category_code\": \"GRP\"\n",
    "    }\n",
    "\n",
    "    response = requests.get(url, params=params)\n",
    "    if response.status_code == 200:\n",
    "        data = response.json()\n",
    "        for row in data[\"result\"]:\n",
    "            if row[\"confirmed_count\"] > 0:\n",
    "                results.append({\"year\": year, \"country\": row[\"probe_cc\"], \"confirmed_count\": row[\"confirmed_count\"]})\n",
    "    else:\n",
    "        print(f\"❌ API error for {year}\")\n",
    "\n",
    "# Convert to DataFrame\n",
    "df = pd.DataFrame(results)\n",
    "df.head()"
   ]
  },
  {
   "cell_type": "code",
   "execution_count": 2,
   "id": "af7b7fef-2fec-41fb-8907-4a8e247dd9e8",
   "metadata": {},
   "outputs": [
    {
     "name": "stdout",
     "output_type": "stream",
     "text": [
      "   year  num_countries\n",
      "0  2017              3\n",
      "1  2018              2\n",
      "2  2019              6\n",
      "3  2020              3\n",
      "4  2021              5\n",
      "5  2022             13\n",
      "6  2023             51\n",
      "7  2024             40\n"
     ]
    }
   ],
   "source": [
    "country_counts = df.groupby(\"year\")[\"country\"].nunique().reset_index()\n",
    "country_counts.columns = [\"year\", \"num_countries\"]\n",
    "print(country_counts)"
   ]
  },
  {
   "cell_type": "code",
   "execution_count": 3,
   "id": "872883bd-4423-4e78-ba3c-58a6e414a9c4",
   "metadata": {},
   "outputs": [
    {
     "data": {
      "image/png": "[encoded data removed]",
      "text/plain": [
       "<Figure size 800x500 with 1 Axes>"
      ]
     },
     "metadata": {},
     "output_type": "display_data"
    }
   ],
   "source": [
    "import matplotlib.pyplot as plt\n",
    "\n",
    "plt.figure(figsize=(8, 5))\n",
    "plt.bar(country_counts[\"year\"].astype(str), country_counts[\"num_countries\"], color=\"crimson\")\n",
    "plt.title(\"Number of Countries Blocking Social Media Websites (2017–2024)\")\n",
    "plt.xlabel(\"Year\")\n",
    "plt.ylabel(\"Countries with Confirmed Blocks (GRP)\")\n",
    "plt.tight_layout()\n",
    "plt.show()"
   ]
  },
  {
   "cell_type": "code",
   "execution_count": null,
   "id": "e58122af-cf02-4632-a2b1-73906be1de8a",
   "metadata": {},
   "outputs": [],
   "source": []
  }
 ],
 "metadata": {
  "kernelspec": {
   "display_name": "Python 3 (ipykernel)",
   "language": "python",
   "name": "python3"
  },
  "language_info": {
   "codemirror_mode": {
    "name": "ipython",
    "version": 3
   },
   "file_extension": ".py",
   "mimetype": "text/x-python",
   "name": "python",
   "nbconvert_exporter": "python",
   "pygments_lexer": "ipython3",
   "version": "3.13.3"
  }
 },
 "nbformat": 4,
 "nbformat_minor": 5
}
